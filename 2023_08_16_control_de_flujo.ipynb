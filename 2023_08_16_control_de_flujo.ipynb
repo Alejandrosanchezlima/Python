{
  "cells": [
    {
      "cell_type": "markdown",
      "metadata": {
        "id": "view-in-github",
        "colab_type": "text"
      },
      "source": [
        "<a href=\"https://colab.research.google.com/github/Alejandrosanchezlima/Python-2023/blob/main/2023_08_16_control_de_flujo.ipynb\" target=\"_parent\"><img src=\"https://colab.research.google.com/assets/colab-badge.svg\" alt=\"Open In Colab\"/></a>"
      ]
    },
    {
      "cell_type": "markdown",
      "metadata": {
        "id": "eyMzEM9FCL7P"
      },
      "source": [
        "Control de flujo\n",
        "================\n",
        "\n",
        "**Date:** 2022-02-03\n",
        "\n"
      ]
    },
    {
      "cell_type": "markdown",
      "metadata": {
        "id": "eIikfChECL7R"
      },
      "source": [
        "## Control de flujo\n",
        "\n"
      ]
    },
    {
      "cell_type": "markdown",
      "metadata": {
        "id": "5KxIpJIOCL7R"
      },
      "source": [
        "### `if`\n",
        "\n"
      ]
    },
    {
      "cell_type": "code",
      "execution_count": 1,
      "metadata": {
        "colab": {
          "base_uri": "https://localhost:8080/"
        },
        "id": "p07ELe9fCL7S",
        "outputId": "7df37f44-26ba-4265-f1a4-ef4fb1a41a69"
      },
      "outputs": [
        {
          "output_type": "execute_result",
          "data": {
            "text/plain": [
              "['Eduardo', 'Alejandro', 'Maria', 'Brenda', 'Clavel', 'Claudia', 'Tamara']"
            ]
          },
          "metadata": {},
          "execution_count": 1
        }
      ],
      "source": [
        "inscritos = [\"Eduardo\", \"Alejandro\", \"Maria\", \"Brenda\", \"Clavel\"]\n",
        "oyentes = [\"Claudia\", \"Tamara\"]\n",
        "estudiantes = inscritos + oyentes\n",
        "estudiantes"
      ]
    },
    {
      "cell_type": "code",
      "execution_count": 14,
      "metadata": {
        "colab": {
          "base_uri": "https://localhost:8080/"
        },
        "id": "FRytVBJhCL7T",
        "outputId": "eb7a55a8-b174-4456-8e00-c8704f5685b4"
      },
      "outputs": [
        {
          "output_type": "stream",
          "name": "stdout",
          "text": [
            "Son muchos estudiantes\n"
          ]
        }
      ],
      "source": [
        "if len(estudiantes) > 5:\n",
        "    print(\"Son muchos estudiantes\")"
      ]
    },
    {
      "cell_type": "code",
      "execution_count": 20,
      "metadata": {
        "colab": {
          "base_uri": "https://localhost:8080/"
        },
        "id": "6c6AVhNxCL7T",
        "outputId": "b6c7d70c-f847-4b8f-b6a2-f23696e28241"
      },
      "outputs": [
        {
          "output_type": "stream",
          "name": "stdout",
          "text": [
            "Son pocos estudiantes. Ojalá entren oyentes\n"
          ]
        }
      ],
      "source": [
        "if len(estudiantes) > 10:\n",
        "    print(\"Son muchos estudiantes\")\n",
        "else:\n",
        "    print(\"Son pocos estudiantes\", end=\". \")\n",
        "    print(\"Ojalá entren oyentes\")"
      ]
    },
    {
      "cell_type": "code",
      "execution_count": 23,
      "metadata": {
        "colab": {
          "base_uri": "https://localhost:8080/"
        },
        "id": "uS6_ABwfCL7U",
        "outputId": "001041f5-aa82-43be-bf29-50ba71b83d5e"
      },
      "outputs": [
        {
          "output_type": "stream",
          "name": "stdout",
          "text": [
            "Son seis estudiantes\n"
          ]
        }
      ],
      "source": [
        "if len(inscritos) <= 5:\n",
        "    print(\"Son cuando mucho cinco estudiantes\")\n",
        "elif len(inscritos) == 6:\n",
        "    print(\"Son seis estudiantes\")\n",
        "else:\n",
        "    print(\"Son muchos estudiantes\", end=\". \")\n",
        "    print(\"Ojalá no entren oyentes\")"
      ]
    },
    {
      "cell_type": "markdown",
      "metadata": {
        "id": "OmfPGj-zCL7V"
      },
      "source": [
        "### `for`\n",
        "\n"
      ]
    },
    {
      "cell_type": "code",
      "execution_count": 25,
      "metadata": {
        "colab": {
          "base_uri": "https://localhost:8080/"
        },
        "id": "Uzt72wCiCL7W",
        "outputId": "c539887b-8c25-4e72-bf55-695901a061cd"
      },
      "outputs": [
        {
          "output_type": "stream",
          "name": "stdout",
          "text": [
            "Hola Eduardo ¿Cómo estás?\n",
            "Hola Alejandro ¿Cómo estás?\n",
            "Hola Maria ¿Cómo estás?\n",
            "Hola Brenda ¿Cómo estás?\n",
            "Hola Clavel ¿Cómo estás?\n",
            "Hola Claudia ¿Cómo estás?\n",
            "Hola Tamara ¿Cómo estás?\n"
          ]
        }
      ],
      "source": [
        "for estudiante in estudiantes:\n",
        "    print(\"Hola\", estudiante, \"¿Cómo estás?\")"
      ]
    },
    {
      "cell_type": "code",
      "execution_count": 30,
      "metadata": {
        "colab": {
          "base_uri": "https://localhost:8080/"
        },
        "id": "PWjAPajYCL7X",
        "outputId": "de94710a-9ee8-430d-e6d6-821ef0a3609b"
      },
      "outputs": [
        {
          "output_type": "stream",
          "name": "stdout",
          "text": [
            "Hola Eduardo\n",
            "Hola Alejandro\n",
            "Hola Maria\n",
            "Hola Brenda\n",
            "Hola Clavel\n",
            "Hola Claudia\n",
            "Hola Tamara\n"
          ]
        }
      ],
      "source": [
        "for i in range(len(estudiantes)):\n",
        "    print(\"Hola\", estudiantes[i])"
      ]
    },
    {
      "cell_type": "code",
      "execution_count": 77,
      "metadata": {
        "colab": {
          "base_uri": "https://localhost:8080/"
        },
        "id": "MZKdxBqPCL7Y",
        "outputId": "1021328a-9ef1-42b2-94da-8caf481f3ca2"
      },
      "outputs": [
        {
          "output_type": "stream",
          "name": "stdout",
          "text": [
            "5\n",
            "3\n",
            "1\n",
            "-1\n"
          ]
        }
      ],
      "source": [
        "for j in range(5, -3, -2):\n",
        "    print(j)\n",
        "    if j == 0:\n",
        "        print(\"Boom\")"
      ]
    },
    {
      "cell_type": "code",
      "execution_count": 78,
      "metadata": {
        "colab": {
          "base_uri": "https://localhost:8080/"
        },
        "id": "BNe3nPiVCL7Z",
        "outputId": "5199b07d-3969-4f59-c065-edd136d01475"
      },
      "outputs": [
        {
          "output_type": "execute_result",
          "data": {
            "text/plain": [
              "range(0, 7897987978979779878979797987987979779797979)"
            ]
          },
          "metadata": {},
          "execution_count": 78
        }
      ],
      "source": [
        "range(7897987978979779878979797987987979779797979)\n"
      ]
    },
    {
      "cell_type": "markdown",
      "source": [
        "**Range puede tener dos valores, el segundo valor es uno despues donde se termina y el ultimo es de cuanto va avanzanda la lista::**"
      ],
      "metadata": {
        "id": "mAQluhsrHpTa"
      }
    },
    {
      "cell_type": "code",
      "source": [
        "list(range(5,-3,-2))"
      ],
      "metadata": {
        "colab": {
          "base_uri": "https://localhost:8080/"
        },
        "id": "t67pJAjjHAwc",
        "outputId": "cc2dd0e7-c00b-4bc6-feb3-2cf8f6406648"
      },
      "execution_count": 49,
      "outputs": [
        {
          "output_type": "execute_result",
          "data": {
            "text/plain": [
              "[5, 3, 1, -1]"
            ]
          },
          "metadata": {},
          "execution_count": 49
        }
      ]
    },
    {
      "cell_type": "markdown",
      "metadata": {
        "id": "NN2IPHn6CL7Z"
      },
      "source": [
        "La suma de todos los números del 1 al 100.\n",
        "\n"
      ]
    },
    {
      "cell_type": "code",
      "execution_count": 54,
      "metadata": {
        "colab": {
          "base_uri": "https://localhost:8080/"
        },
        "id": "b3DRPrm5CL7a",
        "outputId": "a1eafcd8-f8f0-4b3a-d6e9-613b6f4fd2b5"
      },
      "outputs": [
        {
          "output_type": "execute_result",
          "data": {
            "text/plain": [
              "5050"
            ]
          },
          "metadata": {},
          "execution_count": 54
        }
      ],
      "source": [
        "sum(range(101))"
      ]
    },
    {
      "cell_type": "markdown",
      "metadata": {
        "id": "TmmC7GK3CL7b"
      },
      "source": [
        "### break, continue y else en ciclos for\n",
        "\n"
      ]
    },
    {
      "cell_type": "markdown",
      "metadata": {
        "id": "ig6mjAQ8CL7b"
      },
      "source": [
        "#### break\n",
        "\n"
      ]
    },
    {
      "cell_type": "markdown",
      "metadata": {
        "id": "iwHLEzMICL7c"
      },
      "source": [
        "`break` sirve para interrumpir un ciclo for.\n",
        "\n"
      ]
    },
    {
      "cell_type": "code",
      "execution_count": 59,
      "metadata": {
        "colab": {
          "base_uri": "https://localhost:8080/"
        },
        "id": "ZgE1f226CL7c",
        "outputId": "fcd1c9dc-b5a5-46cd-b7be-9276c0c2b24f"
      },
      "outputs": [
        {
          "output_type": "stream",
          "name": "stdout",
          "text": [
            "Hola Eduardo ¿Cómo estás?\n",
            "Hola Alejandro ¿Cómo estás?\n",
            "Hola Maria ¿Cómo estás?\n",
            "Hola Brenda ¿Cómo estás?\n",
            "Ya saludé a los inscritos\n"
          ]
        }
      ],
      "source": [
        "for estudiante in estudiantes:\n",
        "    print(\"Hola\", estudiante, \"¿Cómo estás?\")\n",
        "    if estudiante == \"Maria\":\n",
        "        break\n",
        "\n",
        "print(\"Ya saludé a los inscritos\")"
      ]
    },
    {
      "cell_type": "markdown",
      "metadata": {
        "id": "mXH35m9ECL7d"
      },
      "source": [
        "#### else en un ciclo for\n",
        "\n"
      ]
    },
    {
      "cell_type": "markdown",
      "metadata": {
        "id": "-T4LlKWkCL7d"
      },
      "source": [
        "La cláusula `else` en un ciclo `for` se ejecuta cuando el ciclo `for` termina de manera \"natural\", sin haber pasado por una cláusula `break`.\n",
        "\n"
      ]
    },
    {
      "cell_type": "code",
      "execution_count": 61,
      "metadata": {
        "colab": {
          "base_uri": "https://localhost:8080/"
        },
        "id": "O9XJi26VCL7e",
        "outputId": "a19bbf65-87f4-4bc4-d5a6-0dc88cb7c617"
      },
      "outputs": [
        {
          "output_type": "stream",
          "name": "stdout",
          "text": [
            "2 es un número primo\n",
            "3 es un número primo\n",
            "4 es igual a 2 * 2\n",
            "5 es un número primo\n",
            "6 es igual a 2 * 3\n",
            "7 es un número primo\n",
            "8 es igual a 2 * 4\n",
            "9 es igual a 3 * 3\n",
            "10 es igual a 2 * 5\n",
            "11 es un número primo\n",
            "12 es igual a 2 * 6\n",
            "13 es un número primo\n",
            "14 es igual a 2 * 7\n",
            "15 es igual a 3 * 5\n",
            "16 es igual a 2 * 8\n",
            "17 es un número primo\n",
            "18 es igual a 2 * 9\n",
            "19 es un número primo\n",
            "20 es igual a 2 * 10\n",
            "21 es igual a 3 * 7\n",
            "22 es igual a 2 * 11\n",
            "23 es un número primo\n",
            "24 es igual a 2 * 12\n",
            "25 es igual a 5 * 5\n",
            "26 es igual a 2 * 13\n",
            "27 es igual a 3 * 9\n",
            "28 es igual a 2 * 14\n",
            "29 es un número primo\n"
          ]
        }
      ],
      "source": [
        "for n in range(2, 30):\n",
        "    for x in range(2, n):\n",
        "        if n % x == 0:\n",
        "            print(n, 'es igual a', x, '*', n//x)\n",
        "            break\n",
        "    else:\n",
        "        # se terminó de checar posibles divisores sin encontrar uno\n",
        "        print(n, 'es un número primo')"
      ]
    },
    {
      "cell_type": "markdown",
      "metadata": {
        "id": "HbiPGJofCL7e"
      },
      "source": [
        "#### continue\n",
        "Funciona como el break, pero no detiene el ciclo for continua haciendo el ciclo\n"
      ]
    },
    {
      "cell_type": "code",
      "execution_count": 65,
      "metadata": {
        "colab": {
          "base_uri": "https://localhost:8080/"
        },
        "id": "r8ZMwx5ACL7f",
        "outputId": "8ddfc35a-34f7-420d-ef26-95ddc5fe6e16"
      },
      "outputs": [
        {
          "output_type": "stream",
          "name": "stdout",
          "text": [
            "Hola Eduardo ¿Cómo estás?\n",
            "¿Qué materias estás llevando, Eduardo ?\n",
            "Hola Alejandro ¿Cómo estás?\n",
            "¿Qué materias estás llevando, Alejandro ?\n",
            "Hola Maria ¿Cómo estás?\n",
            "¿Qué materias estás llevando, Maria ?\n",
            "Hola Brenda ¿Cómo estás?\n",
            "¿Qué materias estás llevando, Brenda ?\n",
            "Hola Clavel ¿Cómo estás?\n",
            "Hola Claudia ¿Cómo estás?\n",
            "¿Qué materias estás llevando, Claudia ?\n",
            "Hola Tamara ¿Cómo estás?\n",
            "¿Qué materias estás llevando, Tamara ?\n"
          ]
        }
      ],
      "source": [
        "for estudiante in estudiantes:\n",
        "    print(\"Hola\", estudiante, \"¿Cómo estás?\")\n",
        "    if estudiante in [\"Clavel\", \"Ruth\"]:\n",
        "        continue\n",
        "    print(\"¿Qué materias estás llevando,\", estudiante,\"?\")"
      ]
    },
    {
      "cell_type": "markdown",
      "metadata": {
        "id": "0aTLc988CL7f"
      },
      "source": [
        "#### pass\n",
        "\n"
      ]
    },
    {
      "cell_type": "markdown",
      "metadata": {
        "id": "yIKv7Y9zCL7g"
      },
      "source": [
        "La claúsula `pass` no hace nada, pero puede servir para que un programa incompleto sea sintácticamente correcto."
      ]
    },
    {
      "cell_type": "code",
      "execution_count": 75,
      "metadata": {
        "colab": {
          "base_uri": "https://localhost:8080/"
        },
        "id": "GgiIUtFwCL7g",
        "outputId": "9b0b097f-95b0-4be5-dd81-0571a1deb4d5"
      },
      "outputs": [
        {
          "output_type": "stream",
          "name": "stdout",
          "text": [
            "Hola Eduardo ¿Cómo estás?\n",
            "Hola Alejandro ¿Cómo estás?\n",
            "Hola Maria ¿Cómo estás?\n",
            "Hola Brenda ¿Cómo estás?\n",
            "Hola Clavel ¿Cómo estás?\n",
            "Hola Claudia ¿Cómo estás?\n",
            "Hola Tamara ¿Cómo estás?\n"
          ]
        }
      ],
      "source": [
        "for estudiante in estudiantes:\n",
        "    print(\"Hola\", estudiante, \"¿Cómo estás?\")\n",
        "    if estudiante in [\"Maria\", \"Ruth\"]:\n",
        "        pass"
      ]
    },
    {
      "cell_type": "code",
      "execution_count": 76,
      "metadata": {
        "colab": {
          "base_uri": "https://localhost:8080/"
        },
        "id": "cP7IDaOvCL7g",
        "outputId": "edcbcb72-eef1-44b4-cd0b-d4109c2452bd"
      },
      "outputs": [
        {
          "output_type": "stream",
          "name": "stdout",
          "text": [
            "Hola Eduardo ¿Cómo estás?\n",
            "Hola Alejandro ¿Cómo estás?\n",
            "Hola Maria ¿Cómo estás?\n",
            "Hola Maria ¿Eres oyente?\n",
            "Hola Brenda ¿Cómo estás?\n",
            "Hola Clavel ¿Cómo estás?\n",
            "Hola Claudia ¿Cómo estás?\n",
            "Hola Tamara ¿Cómo estás?\n"
          ]
        }
      ],
      "source": [
        "for estudiante in estudiantes:\n",
        "    print(\"Hola\", estudiante, \"¿Cómo estás?\")\n",
        "    if estudiante in [\"Maria\", \"Ruth\"]:\n",
        "        print(\"Hola\", estudiante, \"¿Eres oyente?\")"
      ]
    }
  ],
  "metadata": {
    "kernelspec": {
      "display_name": "Python 3",
      "language": "python",
      "name": "python3"
    },
    "language_info": {
      "codemirror_mode": {
        "name": "ipython",
        "version": 3
      },
      "file_extension": ".py",
      "mimetype": "text/x-python",
      "name": "python",
      "nbconvert_exporter": "python",
      "pygments_lexer": "ipython3",
      "version": "3.9.2"
    },
    "org": null,
    "colab": {
      "provenance": [],
      "include_colab_link": true
    }
  },
  "nbformat": 4,
  "nbformat_minor": 0
}