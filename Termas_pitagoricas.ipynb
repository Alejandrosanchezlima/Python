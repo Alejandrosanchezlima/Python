{
  "nbformat": 4,
  "nbformat_minor": 0,
  "metadata": {
    "colab": {
      "provenance": [],
      "authorship_tag": "ABX9TyO2sp4HX0xf9AcCjue6DQqm",
      "include_colab_link": true
    },
    "kernelspec": {
      "name": "python3",
      "display_name": "Python 3"
    },
    "language_info": {
      "name": "python"
    }
  },
  "cells": [
    {
      "cell_type": "markdown",
      "metadata": {
        "id": "view-in-github",
        "colab_type": "text"
      },
      "source": [
        "<a href=\"https://colab.research.google.com/github/alesac12/Python-2023/blob/main/Termas_pitagoricas.ipynb\" target=\"_parent\"><img src=\"https://colab.research.google.com/assets/colab-badge.svg\" alt=\"Open In Colab\"/></a>"
      ]
    },
    {
      "cell_type": "markdown",
      "source": [
        "## Termas Pitagoricas\n",
        "Las termas pitagoricas son los conjunto de tres números naturales (a, b, c) para los cuales se cumple la relación $a^{2}+b^{2}=c^{2}$. Los primeros ejemplos son (3, 4, 5), (5, 12, 13), (6, 8, 10), (7, 24, 25),"
      ],
      "metadata": {
        "id": "yx6bex8vNh0e"
      }
    },
    {
      "cell_type": "code",
      "execution_count": null,
      "metadata": {
        "colab": {
          "base_uri": "https://localhost:8080/"
        },
        "id": "Rb6q9RiSNdQm",
        "outputId": "557040bf-2388-4249-ff2f-55b7fa878465"
      },
      "outputs": [
        {
          "output_type": "stream",
          "name": "stdout",
          "text": [
            "Las termas pitagoricas son (3, 4, 5)\n",
            "Las termas pitagoricas son (4, 3, 5)\n",
            "Las termas pitagoricas son (5, 12, 13)\n",
            "Las termas pitagoricas son (6, 8, 10)\n",
            "Las termas pitagoricas son (7, 24, 25)\n",
            "Las termas pitagoricas son (8, 6, 10)\n",
            "Las termas pitagoricas son (8, 15, 17)\n",
            "Las termas pitagoricas son (9, 12, 15)\n",
            "Las termas pitagoricas son (9, 40, 41)\n",
            "Las termas pitagoricas son (10, 24, 26)\n",
            "Las termas pitagoricas son (11, 60, 61)\n",
            "Las termas pitagoricas son (12, 5, 13)\n",
            "Las termas pitagoricas son (12, 9, 15)\n",
            "Las termas pitagoricas son (12, 16, 20)\n",
            "Las termas pitagoricas son (12, 35, 37)\n",
            "Las termas pitagoricas son (13, 84, 85)\n",
            "Las termas pitagoricas son (14, 48, 50)\n",
            "Las termas pitagoricas son (15, 8, 17)\n",
            "Las termas pitagoricas son (15, 20, 25)\n",
            "Las termas pitagoricas son (15, 36, 39)\n",
            "Las termas pitagoricas son (16, 12, 20)\n",
            "Las termas pitagoricas son (16, 30, 34)\n",
            "Las termas pitagoricas son (16, 63, 65)\n",
            "Las termas pitagoricas son (18, 24, 30)\n",
            "Las termas pitagoricas son (18, 80, 82)\n",
            "Las termas pitagoricas son (20, 15, 25)\n",
            "Las termas pitagoricas son (20, 21, 29)\n",
            "Las termas pitagoricas son (20, 48, 52)\n",
            "Las termas pitagoricas son (21, 20, 29)\n",
            "Las termas pitagoricas son (21, 28, 35)\n",
            "Las termas pitagoricas son (21, 72, 75)\n",
            "Las termas pitagoricas son (24, 7, 25)\n",
            "Las termas pitagoricas son (24, 10, 26)\n",
            "Las termas pitagoricas son (24, 18, 30)\n",
            "Las termas pitagoricas son (24, 32, 40)\n",
            "Las termas pitagoricas son (24, 45, 51)\n",
            "Las termas pitagoricas son (24, 70, 74)\n",
            "Las termas pitagoricas son (25, 60, 65)\n",
            "Las termas pitagoricas son (27, 36, 45)\n",
            "Las termas pitagoricas son (28, 21, 35)\n",
            "Las termas pitagoricas son (28, 45, 53)\n",
            "Las termas pitagoricas son (28, 96, 100)\n",
            "Las termas pitagoricas son (30, 16, 34)\n",
            "Las termas pitagoricas son (30, 40, 50)\n",
            "Las termas pitagoricas son (30, 72, 78)\n",
            "Las termas pitagoricas son (32, 24, 40)\n",
            "Las termas pitagoricas son (32, 60, 68)\n",
            "Las termas pitagoricas son (33, 44, 55)\n",
            "Las termas pitagoricas son (33, 56, 65)\n",
            "Las termas pitagoricas son (35, 12, 37)\n",
            "Las termas pitagoricas son (35, 84, 91)\n",
            "Las termas pitagoricas son (36, 15, 39)\n",
            "Las termas pitagoricas son (36, 27, 45)\n",
            "Las termas pitagoricas son (36, 48, 60)\n",
            "Las termas pitagoricas son (36, 77, 85)\n",
            "Las termas pitagoricas son (39, 52, 65)\n",
            "Las termas pitagoricas son (39, 80, 89)\n",
            "Las termas pitagoricas son (40, 9, 41)\n",
            "Las termas pitagoricas son (40, 30, 50)\n",
            "Las termas pitagoricas son (40, 42, 58)\n",
            "Las termas pitagoricas son (40, 75, 85)\n",
            "Las termas pitagoricas son (42, 40, 58)\n",
            "Las termas pitagoricas son (42, 56, 70)\n",
            "Las termas pitagoricas son (44, 33, 55)\n",
            "Las termas pitagoricas son (45, 24, 51)\n",
            "Las termas pitagoricas son (45, 28, 53)\n",
            "Las termas pitagoricas son (45, 60, 75)\n",
            "Las termas pitagoricas son (48, 14, 50)\n",
            "Las termas pitagoricas son (48, 20, 52)\n",
            "Las termas pitagoricas son (48, 36, 60)\n",
            "Las termas pitagoricas son (48, 55, 73)\n",
            "Las termas pitagoricas son (48, 64, 80)\n",
            "Las termas pitagoricas son (51, 68, 85)\n",
            "Las termas pitagoricas son (52, 39, 65)\n",
            "Las termas pitagoricas son (54, 72, 90)\n",
            "Las termas pitagoricas son (55, 48, 73)\n",
            "Las termas pitagoricas son (56, 33, 65)\n",
            "Las termas pitagoricas son (56, 42, 70)\n",
            "Las termas pitagoricas son (57, 76, 95)\n",
            "Las termas pitagoricas son (60, 11, 61)\n",
            "Las termas pitagoricas son (60, 25, 65)\n",
            "Las termas pitagoricas son (60, 32, 68)\n",
            "Las termas pitagoricas son (60, 45, 75)\n",
            "Las termas pitagoricas son (60, 63, 87)\n",
            "Las termas pitagoricas son (60, 80, 100)\n",
            "Las termas pitagoricas son (63, 16, 65)\n",
            "Las termas pitagoricas son (63, 60, 87)\n",
            "Las termas pitagoricas son (64, 48, 80)\n",
            "Las termas pitagoricas son (65, 72, 97)\n",
            "Las termas pitagoricas son (68, 51, 85)\n",
            "Las termas pitagoricas son (70, 24, 74)\n",
            "Las termas pitagoricas son (72, 21, 75)\n",
            "Las termas pitagoricas son (72, 30, 78)\n",
            "Las termas pitagoricas son (72, 54, 90)\n",
            "Las termas pitagoricas son (72, 65, 97)\n",
            "Las termas pitagoricas son (75, 40, 85)\n",
            "Las termas pitagoricas son (76, 57, 95)\n",
            "Las termas pitagoricas son (77, 36, 85)\n",
            "Las termas pitagoricas son (80, 18, 82)\n",
            "Las termas pitagoricas son (80, 39, 89)\n",
            "Las termas pitagoricas son (80, 60, 100)\n",
            "Las termas pitagoricas son (84, 13, 85)\n",
            "Las termas pitagoricas son (84, 35, 91)\n",
            "Las termas pitagoricas son (96, 28, 100)\n"
          ]
        }
      ],
      "source": [
        "\n",
        "def term_pit(x,y,z):\n",
        "    if x**2+y**2==z**2:\n",
        "        print(f\"Las termas pitagoricas son {(x,y,z)}\")\n",
        "    return\n",
        "\n",
        "lista=[term_pit(x,y,z) for x in range(1,101) for y in range(1,101) for z in range(1,101)]\n",
        "\n",
        "\n"
      ]
    },
    {
      "cell_type": "markdown",
      "source": [
        "El cual en la anterior celda se imprimen las termas pitagoricas para $x\\leq100$ $y\\leq100$ $z\\leq100$"
      ],
      "metadata": {
        "id": "f_WjxHmbbzJS"
      }
    },
    {
      "cell_type": "markdown",
      "source": [],
      "metadata": {
        "id": "oW5mkdP9NdwF"
      }
    }
  ]
}