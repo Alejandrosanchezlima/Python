{
  "nbformat": 4,
  "nbformat_minor": 0,
  "metadata": {
    "colab": {
      "provenance": [],
      "authorship_tag": "ABX9TyMCwUpgX+gZin6+WvQuiEjF",
      "include_colab_link": true
    },
    "kernelspec": {
      "name": "python3",
      "display_name": "Python 3"
    },
    "language_info": {
      "name": "python"
    }
  },
  "cells": [
    {
      "cell_type": "markdown",
      "metadata": {
        "id": "view-in-github",
        "colab_type": "text"
      },
      "source": [
        "<a href=\"https://colab.research.google.com/github/alesac12/Python-2023/blob/main/numeros_complejos.ipynb\" target=\"_parent\"><img src=\"https://colab.research.google.com/assets/colab-badge.svg\" alt=\"Open In Colab\"/></a>"
      ]
    },
    {
      "cell_type": "code",
      "source": [
        "from sympy import sqrt\n",
        "\n",
        "class Complejo:\n",
        "    def __init__(self, parte_real, parte_imaginaria):\n",
        "        self.r = parte_real\n",
        "        self.i = parte_imaginaria\n",
        "\n",
        "    def __repr__(self):\n",
        "        return f\"Complejo({self.r}, {self.i})\"\n",
        "\n",
        "    def __add__(self, other):\n",
        "        return Complejo(self.r + other.r, self.i + other.i)\n",
        "\n",
        "\n",
        "    def __sub__(self, other):\n",
        "        return Complejo(self.r - other.r, self.i - other.i)\n",
        "\n",
        "    def __mul__(self, other):\n",
        "        return Complejo(self.r * other.r - self.i * other.i , self.r *other.i + self.i *other.r)\n",
        "\n",
        "\n",
        "    def modulo(self):\n",
        "        return sqrt(self.r**2+self.i**2)\n",
        "\n",
        "    def conjugado(self):\n",
        "        return Complejo(self.r, -self.i)\n",
        "\n",
        "    def inverso(self):\n",
        "        return Complejo(self.r / (self.r**2+self.i**2), -self.i / (self.r**2+self.i**2))\n",
        "\n",
        ""
      ],
      "metadata": {
        "id": "MwF8V0uyqBSZ"
      },
      "execution_count": 65,
      "outputs": []
    },
    {
      "cell_type": "code",
      "source": [
        "z = Complejo(2, -3)\n",
        "w = Complejo(3, 4)\n",
        "z*w,z-w,z.conjugado(),w.inverso()\n",
        "\n",
        "\n"
      ],
      "metadata": {
        "colab": {
          "base_uri": "https://localhost:8080/"
        },
        "id": "DiGJrTKShzLU",
        "outputId": "d92c78be-14a0-4760-a524-f0a77031888b"
      },
      "execution_count": 68,
      "outputs": [
        {
          "output_type": "execute_result",
          "data": {
            "text/plain": [
              "(Complejo(18, -1), Complejo(-1, -7), Complejo(2, 3), Complejo(0.12, -0.16))"
            ]
          },
          "metadata": {},
          "execution_count": 68
        }
      ]
    }
  ]
}