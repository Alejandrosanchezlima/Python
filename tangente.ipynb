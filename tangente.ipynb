{
  "nbformat": 4,
  "nbformat_minor": 0,
  "metadata": {
    "colab": {
      "provenance": [],
      "authorship_tag": "ABX9TyOn0hzd2BHlSqAn/5CeAyRu",
      "include_colab_link": true
    },
    "kernelspec": {
      "name": "python3",
      "display_name": "Python 3"
    },
    "language_info": {
      "name": "python"
    }
  },
  "cells": [
    {
      "cell_type": "markdown",
      "metadata": {
        "id": "view-in-github",
        "colab_type": "text"
      },
      "source": [
        "<a href=\"https://colab.research.google.com/github/alesac12/Python-2023/blob/main/tangente.ipynb\" target=\"_parent\"><img src=\"https://colab.research.google.com/assets/colab-badge.svg\" alt=\"Open In Colab\"/></a>"
      ]
    },
    {
      "cell_type": "markdown",
      "source": [
        "##Ecuación de recta tangente\n",
        "Dada una expresión algebraica y un punto, define una función que regrese la ecuación de la recta tangente en el punto. (La ecuación se puede representar con Eq)\n"
      ],
      "metadata": {
        "id": "9kY-oSkbQe7j"
      }
    },
    {
      "cell_type": "code",
      "execution_count": 64,
      "metadata": {
        "id": "FF9Xw11SQLAN",
        "colab": {
          "base_uri": "https://localhost:8080/",
          "height": 38
        },
        "outputId": "9cb7697a-2d2f-4ab6-c7cc-b41b37a4d9f3"
      },
      "outputs": [
        {
          "output_type": "execute_result",
          "data": {
            "text/plain": [
              "(y = 4.4⋅x + 0.56, y = 4⋅x + 10)"
            ],
            "text/latex": "$\\displaystyle \\left( y = 4.4 x + 0.56, \\  y = 4 x + 10\\right)$"
          },
          "metadata": {},
          "execution_count": 64
        }
      ],
      "source": [
        "from sympy import init_printing, symbols, Eq, diff\n",
        "init_printing(use_latex=True)\n",
        "\n",
        "x = symbols('x')\n",
        "\n",
        "def rectan(eq,p):\n",
        "    \"\"\"Funcion que encuentra la recta tangente de una expresión algebraica\"\"\"\n",
        "    y = symbols('y')\n",
        "    fy = eq.subs({x:p})\n",
        "    d = diff(eq)\n",
        "    fpy = d.subs({x:p})\n",
        "    tangente= Eq(y,fy + fpy*(x-p))\n",
        "    return tangente\n",
        "\n",
        "\n",
        "rectan(x**2+2*x+2,1.2), rectan(2*x**3+5*x**2-2,-2)\n"
      ]
    }
  ]
}