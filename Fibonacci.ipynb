{
  "nbformat": 4,
  "nbformat_minor": 0,
  "metadata": {
    "colab": {
      "provenance": [],
      "authorship_tag": "ABX9TyO61Eatbl2eruDzRJU1AVLD",
      "include_colab_link": true
    },
    "kernelspec": {
      "name": "python3",
      "display_name": "Python 3"
    },
    "language_info": {
      "name": "python"
    }
  },
  "cells": [
    {
      "cell_type": "markdown",
      "metadata": {
        "id": "view-in-github",
        "colab_type": "text"
      },
      "source": [
        "<a href=\"https://colab.research.google.com/github/alesac12/Python-2023/blob/main/Fibonacci.ipynb\" target=\"_parent\"><img src=\"https://colab.research.google.com/assets/colab-badge.svg\" alt=\"Open In Colab\"/></a>"
      ]
    },
    {
      "cell_type": "markdown",
      "source": [
        "## Potencias de fibonacci\n",
        "La secuencia de Fibonacci es una sucesión infinita de números naturales, descrita por primera vez por el matemático italiano Fibonacci en el siglo XIII. Esta serie numérica empieza con 0 y 1, siguiendo con la suma de los dos números anteriores hasta el infinito: 1, 1, 2, 3, 5, 8, 13, 21, 34, 55, 89, 144, 233.\n",
        "\n",
        "En el cual queremos comprobar cuales de esos numeros son cuadrados perfectos es decir que su raiz n-esima es entera,para esto se desarrollo el siguiente codigo en la proxima celda"
      ],
      "metadata": {
        "id": "948nIB_oG7UW"
      }
    },
    {
      "cell_type": "code",
      "execution_count": 7,
      "metadata": {
        "colab": {
          "base_uri": "https://localhost:8080/"
        },
        "id": "gOCckNB0G4mH",
        "outputId": "49a15942-b6cb-4f65-e1bf-313521ebb792"
      },
      "outputs": [
        {
          "output_type": "execute_result",
          "data": {
            "text/plain": [
              "[0, 1, 1, 8]"
            ]
          },
          "metadata": {},
          "execution_count": 7
        }
      ],
      "source": [
        "from sympy import sqrt\n",
        "\n",
        "def es_pot(n,pot=2):\n",
        "    return int(n**(1/pot)) ** pot == n\n",
        "\n",
        "def cuadrados_fibonacci(n,pot=2):\n",
        "    fibs = []\n",
        "    a, b = 0, 1\n",
        "    while a < n:\n",
        "        if es_pot(a,pot):\n",
        "            fibs.append(a)\n",
        "        a, b = b, a+b\n",
        "    return fibs\n",
        "\n",
        "cuadrados_fibonacci(10**20,pot=3)"
      ]
    },
    {
      "cell_type": "markdown",
      "source": [
        "El cual en el anterior codigo llamamos la funcion cuadrados_fibonacci(n,pot) con el cual nos ayuda a resolver el problema de cual de ellos son cuadrados perfectos"
      ],
      "metadata": {
        "id": "49ZDP4B4MZ1h"
      }
    },
    {
      "cell_type": "markdown",
      "source": [
        "## Referencias\n",
        "https://annals.math.princeton.edu/2006/163-3/p05"
      ],
      "metadata": {
        "id": "tn1Kb_FaLMbv"
      }
    }
  ]
}